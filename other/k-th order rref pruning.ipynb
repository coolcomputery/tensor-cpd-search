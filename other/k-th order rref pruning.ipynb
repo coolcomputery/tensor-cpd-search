{
 "cells": [
  {
   "cell_type": "code",
   "execution_count": 1,
   "id": "518c8d40",
   "metadata": {},
   "outputs": [],
   "source": [
    "from cpd_search import *  # using cpd/original/cpd_search.py\n",
    "from tqdm import tqdm\n",
    "import math"
   ]
  },
  {
   "cell_type": "code",
   "execution_count": null,
   "id": "f6eabc78",
   "metadata": {},
   "outputs": [],
   "source": []
  },
  {
   "cell_type": "code",
   "execution_count": 2,
   "id": "7538b19b",
   "metadata": {},
   "outputs": [],
   "source": [
    "def perm_parity(P):\n",
    "    n=len(P)\n",
    "    assert set(P)==set(range(n))\n",
    "    seen=[False]*n\n",
    "    out=0\n",
    "    for i in range(n):\n",
    "        if not seen[i]:\n",
    "            cyc_len=0\n",
    "            h=i\n",
    "            while not seen[h]:\n",
    "                seen[h]=True\n",
    "                h=P[h]\n",
    "                cyc_len+=1\n",
    "            out^=(cyc_len-1)%2\n",
    "    return out"
   ]
  },
  {
   "cell_type": "code",
   "execution_count": 3,
   "id": "f204a9df",
   "metadata": {},
   "outputs": [],
   "source": [
    "def wedge_prod(vecs,MOD):\n",
    "    assert isinstance(vecs,tuple)\n",
    "    D=len(vecs)\n",
    "    assert D>0\n",
    "    n,=vecs[0].shape\n",
    "    assert all(v.shape==(n,) for v in vecs)\n",
    "    out=0\n",
    "    for perm in it.permutations(range(D)):\n",
    "        out=(out + (-1)**perm_parity(perm) * cpd_eval([tuple(vecs[p] for p in perm)],MOD))%MOD\n",
    "    return out"
   ]
  },
  {
   "cell_type": "code",
   "execution_count": 4,
   "id": "c61883f6",
   "metadata": {},
   "outputs": [
    {
     "data": {
      "text/plain": [
       "array([[[ 0.,  0.,  0.],\n",
       "        [ 0.,  0.,  1.],\n",
       "        [ 0., 96.,  0.]],\n",
       "\n",
       "       [[ 0.,  0., 96.],\n",
       "        [ 0.,  0.,  0.],\n",
       "        [ 1.,  0.,  0.]],\n",
       "\n",
       "       [[ 0.,  1.,  0.],\n",
       "        [96.,  0.,  0.],\n",
       "        [ 0.,  0.,  0.]]])"
      ]
     },
     "execution_count": 4,
     "metadata": {},
     "output_type": "execute_result"
    }
   ],
   "source": [
    "wedge_prod(tuple(np.eye(3)),MOD=97)"
   ]
  },
  {
   "cell_type": "code",
   "execution_count": 5,
   "id": "cc1f5e35",
   "metadata": {},
   "outputs": [],
   "source": [
    "def all_tensors(shape,MOD):\n",
    "    return (\n",
    "        np.array(v,dtype=int).reshape(shape)\n",
    "        for v in it.product(range(MOD),repeat=np.prod(shape))\n",
    "    )\n",
    "\n",
    "def all_nonzero_tensors(shape,MOD):\n",
    "    return (\n",
    "        T\n",
    "        for T in all_tensors(shape,MOD)\n",
    "        if (T!=0).any()\n",
    "    )"
   ]
  },
  {
   "cell_type": "code",
   "execution_count": 40,
   "id": "a7b64eac",
   "metadata": {},
   "outputs": [],
   "source": [
    "def k_th_rref_prune0(T,R,MOD,k,verbose=False):\n",
    "    n0=T.shape[0]\n",
    "    if R<n0:\n",
    "        return NO_CPD_EXISTS\n",
    "    good_vec_subsets=[]\n",
    "    for vecs in it.combinations(all_nonzero_tensors((n0,),MOD),k):\n",
    "        M=np.array(vecs)\n",
    "        M_T=axis_op0(M,T,MOD)\n",
    "        if cpd_search(M_T,R-n0+k,MOD,verbose=False) is not None:\n",
    "            good_vec_subsets.append(vecs)\n",
    "    \n",
    "    if verbose:\n",
    "        print(good_vec_subsets)\n",
    "        \n",
    "        # generate minimal list of vector subsets\n",
    "        # such that their wedge products span a maximal-dimension space;\n",
    "        # equivalently, the set of linear subspaces spanned by the subsets\n",
    "        # span all possible k-planes of (F_MOD)**n_0\n",
    "        cur_mat=np.zeros((0,n0**k),dtype=int)\n",
    "        subset_basis=[]\n",
    "        for vecs in good_vec_subsets:\n",
    "            new_mat=np.concatenate([\n",
    "                cur_mat,\n",
    "                wedge_prod(vecs,MOD).reshape((1,-1))\n",
    "            ],axis=0)\n",
    "            if mat_rank(new_mat,MOD)>cur_mat.shape[0]:\n",
    "                cur_mat=new_mat\n",
    "                subset_basis.append(vecs)\n",
    "        print(subset_basis)\n",
    "    \n",
    "    wedges_mat=np.array([\n",
    "        wedge_prod(vecs,MOD) for vecs in good_vec_subsets\n",
    "    ],dtype=int).reshape((len(good_vec_subsets),n0**k))\n",
    "    if mat_rank(wedges_mat,MOD)>=math.comb(n0,k):\n",
    "        return CANNOT_DETERMINE_IF_CPD_EXISTS\n",
    "    return NO_CPD_EXISTS"
   ]
  },
  {
   "cell_type": "code",
   "execution_count": 43,
   "id": "201ac644",
   "metadata": {},
   "outputs": [
    {
     "name": "stdout",
     "output_type": "stream",
     "text": [
      "[(array([0, 0, 1]), array([0, 1, 0])), (array([0, 0, 1]), array([0, 1, 1])), (array([0, 0, 1]), array([1, 0, 0])), (array([0, 0, 1]), array([1, 0, 1])), (array([0, 0, 1]), array([1, 1, 0])), (array([0, 0, 1]), array([1, 1, 1])), (array([0, 1, 0]), array([0, 1, 1])), (array([0, 1, 0]), array([1, 0, 0])), (array([0, 1, 0]), array([1, 0, 1])), (array([0, 1, 0]), array([1, 1, 0])), (array([0, 1, 0]), array([1, 1, 1])), (array([0, 1, 1]), array([1, 0, 0])), (array([0, 1, 1]), array([1, 0, 1])), (array([0, 1, 1]), array([1, 1, 0])), (array([0, 1, 1]), array([1, 1, 1])), (array([1, 0, 0]), array([1, 0, 1])), (array([1, 0, 0]), array([1, 1, 0])), (array([1, 0, 0]), array([1, 1, 1])), (array([1, 0, 1]), array([1, 1, 0])), (array([1, 0, 1]), array([1, 1, 1])), (array([1, 1, 0]), array([1, 1, 1]))]\n",
      "[(array([0, 0, 1]), array([0, 1, 0])), (array([0, 0, 1]), array([1, 0, 0])), (array([0, 1, 0]), array([1, 0, 0]))]\n",
      "None\n"
     ]
    }
   ],
   "source": [
    "T=wedge_prod(tuple(np.eye(3,dtype=int)),MOD=2)\n",
    "print(k_th_rref_prune0(T,R=5,MOD=2,k=2,verbose=True))\n",
    "del T"
   ]
  },
  {
   "cell_type": "code",
   "execution_count": 8,
   "id": "fcd0312f",
   "metadata": {},
   "outputs": [],
   "source": [
    "# copied code from \"maximum rank/generating canonical tensors.ipynb\"\n",
    "def all_invle_mats(n,MOD):\n",
    "    for v in it.product(range(MOD),repeat=n*n):\n",
    "        M=np.array(v,dtype=int).reshape((n,n))\n",
    "        if mat_rank(M,MOD)==n:\n",
    "            yield M\n",
    "\n",
    "def tensor2code(T):\n",
    "    '''\n",
    "    convert tensor T into a hashable object\n",
    "    '''\n",
    "    assert isinstance(T,np.ndarray), type(T)\n",
    "    return (T.shape,tuple(T.flatten()))\n",
    "\n",
    "def linsys(A,B,MOD,iterate=True):\n",
    "    '''\n",
    "    if iter:\n",
    "        return iterable of all solutions M to A@M=B mod MOD\n",
    "    else:\n",
    "        return X,Y such that the set {X+Y@Z : Z}\n",
    "        parameterizes all such solutions\n",
    "    '''\n",
    "    assert len(A.shape)==2, A.shape\n",
    "    assert len(B.shape)==2, B.shape\n",
    "    assert A.shape[0]==B.shape[0], (A.shape,B.shape)\n",
    "    rrefA,P,_,r=mat_row_reduce(A,MOD)\n",
    "    _,QT,_,_=mat_row_reduce(rrefA.T,MOD)\n",
    "    Q=QT.T\n",
    "    reduced_expected=np.zeros(A.shape,dtype=int)\n",
    "    reduced_expected[range(r),range(r)]=1\n",
    "    assert np.array_equal((P@A@Q)%MOD,reduced_expected), (P,A,Q,r,(P@A@Q)%MOD)\n",
    "    # (P@A@Q)@(inv(Q)@M)=P@B\n",
    "    PB=(P@B)%MOD\n",
    "    if not (PB[r:,:]==0).all():\n",
    "        # no solutions\n",
    "        if iterate:\n",
    "            return []\n",
    "        else:\n",
    "            return None\n",
    "    # M = Q@cat([PB[:r,:],arbitrary],axis=0)\n",
    "    #   = Q[:,:r]@PB[:r,:] + Q[:,r:]@arbitrary\n",
    "    M0,M1=(Q[:,:r]@PB[:r,:])%MOD, Q[:,r:]\n",
    "    if iterate:\n",
    "        return (\n",
    "            (M0+M1@X)%MOD\n",
    "            for X in all_tensors((M1.shape[1],M0.shape[1]),MOD)\n",
    "        )\n",
    "    else:\n",
    "        return M0,M1\n",
    "\n",
    "def dfs_canonicals_dim3(\n",
    "    n_slices,nrows,nclms,MOD,row_ops,\n",
    "    cur_slices,sol_list\n",
    "):\n",
    "    '''\n",
    "    row_ops: list of allowed row operations on slices\n",
    "    cur_slices: current list (prefix) of slices in tensor that will be built\n",
    "    sol_list (mutated): list to append to\n",
    "    '''\n",
    "    assert isinstance(row_ops,list)\n",
    "    assert len(cur_slices)<=n_slices\n",
    "    assert all(M.shape==(nrows,nclms) for M in cur_slices)\n",
    "    \n",
    "    if len(cur_slices)==n_slices:\n",
    "        sol_list.append(np.array(cur_slices,dtype=int))\n",
    "        return\n",
    "    \n",
    "    print('='*32+'\\n'+f'depth: {len(cur_slices)}')\n",
    "    good_pairs=[]\n",
    "    for P in tqdm(row_ops):\n",
    "        # find all inv'le nclms x nclms Q s.t. all(M==P@M@Q for M in cur_slices)\n",
    "        sys_left=np.concatenate([\n",
    "            (P@M)%MOD\n",
    "            for M in cur_slices\n",
    "        ],axis=0)\n",
    "        sys_right=np.concatenate(cur_slices,axis=0)\n",
    "        good_pairs.extend(\n",
    "            (P,Q)\n",
    "            for Q in linsys(sys_left,sys_right,MOD)\n",
    "            if mat_rank(Q,MOD)==nclms\n",
    "        )\n",
    "            \n",
    "    assert len(good_pairs)>0  # should at least contain the identity\n",
    "    print(f'# good pairs={len(good_pairs)}')\n",
    "    \n",
    "    seen=set()\n",
    "    canonicals=[]\n",
    "    for M in all_tensors((nrows,nclms),MOD):\n",
    "        code=tensor2code(M)\n",
    "        if code not in seen:\n",
    "            canonicals.append(M)\n",
    "            seen.update(\n",
    "                tensor2code((P@M@Q)%MOD)\n",
    "                for P,Q in good_pairs\n",
    "            )\n",
    "    print(f'# canonicals={len(canonicals)}')\n",
    "    \n",
    "    for M in canonicals:\n",
    "        dfs_canonicals_dim3(\n",
    "            n_slices,nrows,nclms,MOD,row_ops,\n",
    "            cur_slices+[M,],sol_list\n",
    "        )"
   ]
  },
  {
   "cell_type": "code",
   "execution_count": 9,
   "id": "8069ac5c",
   "metadata": {
    "scrolled": true
   },
   "outputs": [
    {
     "data": {
      "text/plain": [
       "[array([[1, 0, 0],\n",
       "        [0, 1, 0],\n",
       "        [0, 0, 1]])]"
      ]
     },
     "metadata": {},
     "output_type": "display_data"
    },
    {
     "name": "stdout",
     "output_type": "stream",
     "text": [
      "================================\n",
      "depth: 1\n"
     ]
    },
    {
     "name": "stderr",
     "output_type": "stream",
     "text": [
      "100%|████████████████████████████████████████| 168/168 [00:00<00:00, 958.12it/s]\n"
     ]
    },
    {
     "name": "stdout",
     "output_type": "stream",
     "text": [
      "# good pairs=168\n",
      "# canonicals=14\n",
      "================================\n",
      "depth: 2\n"
     ]
    },
    {
     "name": "stderr",
     "output_type": "stream",
     "text": [
      "100%|████████████████████████████████████████| 168/168 [00:00<00:00, 808.61it/s]\n"
     ]
    },
    {
     "name": "stdout",
     "output_type": "stream",
     "text": [
      "# good pairs=168\n",
      "# canonicals=14\n",
      "================================\n",
      "depth: 2\n"
     ]
    },
    {
     "name": "stderr",
     "output_type": "stream",
     "text": [
      "100%|███████████████████████████████████████| 168/168 [00:00<00:00, 1013.84it/s]\n"
     ]
    },
    {
     "name": "stdout",
     "output_type": "stream",
     "text": [
      "# good pairs=6\n",
      "# canonicals=104\n",
      "================================\n",
      "depth: 2\n"
     ]
    },
    {
     "name": "stderr",
     "output_type": "stream",
     "text": [
      "100%|███████████████████████████████████████| 168/168 [00:00<00:00, 1129.38it/s]\n"
     ]
    },
    {
     "name": "stdout",
     "output_type": "stream",
     "text": [
      "# good pairs=8\n",
      "# canonicals=86\n",
      "================================\n",
      "depth: 2\n"
     ]
    },
    {
     "name": "stderr",
     "output_type": "stream",
     "text": [
      "100%|███████████████████████████████████████| 168/168 [00:00<00:00, 1049.42it/s]\n"
     ]
    },
    {
     "name": "stdout",
     "output_type": "stream",
     "text": [
      "# good pairs=2\n",
      "# canonicals=272\n",
      "================================\n",
      "depth: 2\n"
     ]
    },
    {
     "name": "stderr",
     "output_type": "stream",
     "text": [
      "100%|███████████████████████████████████████| 168/168 [00:00<00:00, 1145.33it/s]\n"
     ]
    },
    {
     "name": "stdout",
     "output_type": "stream",
     "text": [
      "# good pairs=3\n",
      "# canonicals=176\n",
      "================================\n",
      "depth: 2\n"
     ]
    },
    {
     "name": "stderr",
     "output_type": "stream",
     "text": [
      "100%|███████████████████████████████████████| 168/168 [00:00<00:00, 1187.93it/s]\n"
     ]
    },
    {
     "name": "stdout",
     "output_type": "stream",
     "text": [
      "# good pairs=4\n",
      "# canonicals=140\n",
      "================================\n",
      "depth: 2\n"
     ]
    },
    {
     "name": "stderr",
     "output_type": "stream",
     "text": [
      "100%|███████████████████████████████████████| 168/168 [00:00<00:00, 1060.18it/s]\n"
     ]
    },
    {
     "name": "stdout",
     "output_type": "stream",
     "text": [
      "# good pairs=2\n",
      "# canonicals=272\n",
      "================================\n",
      "depth: 2\n"
     ]
    },
    {
     "name": "stderr",
     "output_type": "stream",
     "text": [
      "100%|███████████████████████████████████████| 168/168 [00:00<00:00, 1051.54it/s]\n"
     ]
    },
    {
     "name": "stdout",
     "output_type": "stream",
     "text": [
      "# good pairs=6\n",
      "# canonicals=104\n",
      "================================\n",
      "depth: 2\n"
     ]
    },
    {
     "name": "stderr",
     "output_type": "stream",
     "text": [
      "100%|███████████████████████████████████████| 168/168 [00:00<00:00, 1073.20it/s]\n"
     ]
    },
    {
     "name": "stdout",
     "output_type": "stream",
     "text": [
      "# good pairs=8\n",
      "# canonicals=86\n",
      "================================\n",
      "depth: 2\n"
     ]
    },
    {
     "name": "stderr",
     "output_type": "stream",
     "text": [
      "100%|███████████████████████████████████████| 168/168 [00:00<00:00, 1093.56it/s]\n"
     ]
    },
    {
     "name": "stdout",
     "output_type": "stream",
     "text": [
      "# good pairs=3\n",
      "# canonicals=176\n",
      "================================\n",
      "depth: 2\n"
     ]
    },
    {
     "name": "stderr",
     "output_type": "stream",
     "text": [
      "100%|███████████████████████████████████████| 168/168 [00:00<00:00, 1033.80it/s]\n"
     ]
    },
    {
     "name": "stdout",
     "output_type": "stream",
     "text": [
      "# good pairs=4\n",
      "# canonicals=140\n",
      "================================\n",
      "depth: 2\n"
     ]
    },
    {
     "name": "stderr",
     "output_type": "stream",
     "text": [
      "100%|███████████████████████████████████████| 168/168 [00:00<00:00, 1078.00it/s]\n"
     ]
    },
    {
     "name": "stdout",
     "output_type": "stream",
     "text": [
      "# good pairs=7\n",
      "# canonicals=80\n",
      "================================\n",
      "depth: 2\n"
     ]
    },
    {
     "name": "stderr",
     "output_type": "stream",
     "text": [
      "100%|████████████████████████████████████████| 168/168 [00:00<00:00, 936.77it/s]\n"
     ]
    },
    {
     "name": "stdout",
     "output_type": "stream",
     "text": [
      "# good pairs=7\n",
      "# canonicals=80\n",
      "================================\n",
      "depth: 2\n"
     ]
    },
    {
     "name": "stderr",
     "output_type": "stream",
     "text": [
      "100%|████████████████████████████████████████| 168/168 [00:00<00:00, 804.19it/s]"
     ]
    },
    {
     "name": "stdout",
     "output_type": "stream",
     "text": [
      "# good pairs=168\n",
      "# canonicals=14\n"
     ]
    },
    {
     "name": "stderr",
     "output_type": "stream",
     "text": [
      "\n"
     ]
    }
   ],
   "source": [
    "canonical_tensors=[]\n",
    "A=np.zeros((3,3),dtype=int)\n",
    "A[range(3),range(3)]=1\n",
    "init_slices=[\n",
    "    A,\n",
    "]\n",
    "display(init_slices)\n",
    "dfs_canonicals_dim3(\n",
    "    n_slices=3,nrows=3,nclms=3,MOD=2,\n",
    "    row_ops=list(all_invle_mats(3,2)),\n",
    "    cur_slices=init_slices,\n",
    "    sol_list=canonical_tensors\n",
    ")"
   ]
  },
  {
   "cell_type": "code",
   "execution_count": 10,
   "id": "35e23659",
   "metadata": {},
   "outputs": [
    {
     "data": {
      "text/plain": [
       "1744"
      ]
     },
     "execution_count": 10,
     "metadata": {},
     "output_type": "execute_result"
    }
   ],
   "source": [
    "len(canonical_tensors)"
   ]
  },
  {
   "cell_type": "code",
   "execution_count": 17,
   "id": "af968b42",
   "metadata": {},
   "outputs": [
    {
     "name": "stderr",
     "output_type": "stream",
     "text": [
      " 14%|█████▋                                  | 246/1744 [01:41<10:16,  2.43it/s]"
     ]
    },
    {
     "name": "stdout",
     "output_type": "stream",
     "text": [
      "[[[1 0 0]\n",
      "  [0 1 0]\n",
      "  [0 0 1]]\n",
      "\n",
      " [[0 0 0]\n",
      "  [0 0 1]\n",
      "  [0 1 0]]\n",
      "\n",
      " [[0 0 1]\n",
      "  [0 0 0]\n",
      "  [1 1 0]]]\n"
     ]
    },
    {
     "name": "stderr",
     "output_type": "stream",
     "text": [
      "\n"
     ]
    }
   ],
   "source": [
    "for T_target in tqdm(canonical_tensors):\n",
    "    MOD=2\n",
    "    rank_thresh=4\n",
    "    \n",
    "    if all(\n",
    "        k_th_rref_prune0(rotate(T_target,sh),rank_thresh,MOD,k=2)!=NO_CPD_EXISTS\n",
    "        for sh in range(len(T_target.shape))\n",
    "    ):\n",
    "        ret=cpd_search(\n",
    "            T_target,rank_thresh,MOD,\n",
    "            pruners={\n",
    "                'rref':prune_rref,\n",
    "                'ranksum':prune_contract_ranksum,\n",
    "            },\n",
    "            verbose=False\n",
    "        )\n",
    "        if ret is None:\n",
    "            print(T_target)\n",
    "            break"
   ]
  },
  {
   "cell_type": "code",
   "execution_count": 44,
   "id": "06d4f592",
   "metadata": {
    "scrolled": true
   },
   "outputs": [
    {
     "data": {
      "text/plain": [
       "array([[[1, 0, 0],\n",
       "        [0, 1, 0],\n",
       "        [0, 0, 1]],\n",
       "\n",
       "       [[0, 0, 0],\n",
       "        [0, 0, 1],\n",
       "        [0, 1, 0]],\n",
       "\n",
       "       [[0, 0, 1],\n",
       "        [0, 0, 0],\n",
       "        [1, 1, 0]]])"
      ]
     },
     "metadata": {},
     "output_type": "display_data"
    },
    {
     "name": "stdout",
     "output_type": "stream",
     "text": [
      "ax=0\n",
      "[(array([0, 0, 1]), array([1, 1, 0])), (array([0, 0, 1]), array([1, 1, 1])), (array([0, 1, 0]), array([1, 0, 1])), (array([0, 1, 0]), array([1, 1, 1])), (array([0, 1, 1]), array([1, 0, 1])), (array([0, 1, 1]), array([1, 1, 0])), (array([1, 0, 1]), array([1, 1, 0])), (array([1, 0, 1]), array([1, 1, 1])), (array([1, 1, 0]), array([1, 1, 1]))]\n",
      "[(array([0, 0, 1]), array([1, 1, 0])), (array([0, 1, 0]), array([1, 0, 1])), (array([0, 1, 1]), array([1, 0, 1]))]\n",
      "ax=1\n",
      "[(array([0, 1, 0]), array([1, 0, 1])), (array([0, 1, 0]), array([1, 1, 1])), (array([0, 1, 1]), array([1, 0, 0])), (array([0, 1, 1]), array([1, 0, 1])), (array([0, 1, 1]), array([1, 1, 0])), (array([0, 1, 1]), array([1, 1, 1])), (array([1, 0, 0]), array([1, 1, 1])), (array([1, 0, 1]), array([1, 1, 0])), (array([1, 0, 1]), array([1, 1, 1]))]\n",
      "[(array([0, 1, 0]), array([1, 0, 1])), (array([0, 1, 1]), array([1, 0, 0])), (array([0, 1, 1]), array([1, 0, 1]))]\n",
      "ax=2\n",
      "[(array([0, 1, 0]), array([1, 0, 1])), (array([0, 1, 0]), array([1, 1, 1])), (array([0, 1, 1]), array([1, 0, 0])), (array([0, 1, 1]), array([1, 0, 1])), (array([0, 1, 1]), array([1, 1, 0])), (array([0, 1, 1]), array([1, 1, 1])), (array([1, 0, 0]), array([1, 1, 1])), (array([1, 0, 1]), array([1, 1, 0])), (array([1, 0, 1]), array([1, 1, 1]))]\n",
      "[(array([0, 1, 0]), array([1, 0, 1])), (array([0, 1, 1]), array([1, 0, 0])), (array([0, 1, 1]), array([1, 0, 1]))]\n"
     ]
    }
   ],
   "source": [
    "T_target=np.array(\n",
    "[[[1,0,0],\n",
    "  [0,1,0],\n",
    "  [0,0,1],],\n",
    "\n",
    " [[0,0,0],\n",
    "  [0,0,1],\n",
    "  [0,1,0],],\n",
    "\n",
    " [[0,0,1],\n",
    "  [0,0,0],\n",
    "  [1,1,0],],]\n",
    ",dtype=int)\n",
    "display(T_target)\n",
    "\n",
    "for ax in range(len(T_target.shape)):\n",
    "    print(f'{ax=}')\n",
    "    k_th_rref_prune0(rotate(T_target,ax),rank_thresh,MOD,k=2,verbose=True)    "
   ]
  },
  {
   "cell_type": "markdown",
   "id": "e0bad0c1",
   "metadata": {},
   "source": [
    "ax=0: 2-planes are [(array([0, 0, 1]), array([1, 1, 0])), (array([0, 1, 0]), array([1, 0, 1])), (array([0, 1, 1]), array([1, 0, 1]))]\n",
    "\n",
    "create the span of each tuple, then take pairwise intersections: we get\n",
    "* 0th, 1st: [1,1,1]\n",
    "    * because the intersection of span([0,0,1],[1,1,0]) and span([0,1,0],[1,0,1])\n",
    "    is span([1,1,1])\n",
    "* 0th, 2nd: [1,1,0]\n",
    "* 1st, 2nd: [1,0,1]\n",
    "\n",
    "repeat for other axes\n",
    "\n",
    "ax=1:\n",
    "* [(array([0, 1, 0]), array([1, 0, 1])), (array([0, 1, 1]), array([1, 0, 0])), (array([0, 1, 1]), array([1, 0, 1]))]\n",
    "* [1,1,1], [1,0,1], [0,1,1]\n",
    "\n",
    "ax=2:\n",
    "* [(array([0, 1, 0]), array([1, 0, 1])), (array([0, 1, 1]), array([1, 0, 0])), (array([0, 1, 1]), array([1, 0, 1]))] (same as ax=1)\n",
    "* [1,1,1], [1,0,1], [0,1,1]"
   ]
  },
  {
   "cell_type": "markdown",
   "id": "b94bffca",
   "metadata": {},
   "source": [
    "changing basis of T along each axis forms a new tensor\n",
    "such that the k-planes that pass k-th order rref-pruning\n",
    "are precisely the k-subsets of slices\n",
    "\n",
    "(i.e. the k-planes form the standard basis)"
   ]
  },
  {
   "cell_type": "code",
   "execution_count": 48,
   "id": "89aeb4f9",
   "metadata": {},
   "outputs": [
    {
     "data": {
      "text/plain": [
       "array([[[0, 1, 0],\n",
       "        [0, 0, 0],\n",
       "        [0, 1, 1]],\n",
       "\n",
       "       [[1, 1, 0],\n",
       "        [1, 0, 0],\n",
       "        [0, 0, 0]],\n",
       "\n",
       "       [[0, 0, 0],\n",
       "        [1, 0, 1],\n",
       "        [0, 0, 1]]])"
      ]
     },
     "metadata": {},
     "output_type": "display_data"
    },
    {
     "data": {
      "text/plain": [
       "array([[[0, 1, 0],\n",
       "        [1, 1, 0],\n",
       "        [0, 0, 0]],\n",
       "\n",
       "       [[0, 1, 1],\n",
       "        [0, 0, 0],\n",
       "        [0, 0, 1]],\n",
       "\n",
       "       [[0, 0, 0],\n",
       "        [1, 0, 0],\n",
       "        [1, 0, 1]]])"
      ]
     },
     "metadata": {},
     "output_type": "display_data"
    },
    {
     "data": {
      "text/plain": [
       "array([[[0, 0, 0],\n",
       "        [1, 1, 0],\n",
       "        [0, 1, 0]],\n",
       "\n",
       "       [[1, 0, 1],\n",
       "        [1, 0, 0],\n",
       "        [0, 0, 0]],\n",
       "\n",
       "       [[0, 0, 1],\n",
       "        [0, 0, 0],\n",
       "        [0, 1, 1]]])"
      ]
     },
     "metadata": {},
     "output_type": "display_data"
    },
    {
     "name": "stdout",
     "output_type": "stream",
     "text": [
      "t=2.0972641409607604\n",
      "{'work': [344, 1]}\n"
     ]
    }
   ],
   "source": [
    "T_target=np.array(\n",
    "[[[1,0,0],\n",
    "  [0,1,0],\n",
    "  [0,0,1],],\n",
    "\n",
    " [[0,0,0],\n",
    "  [0,0,1],\n",
    "  [0,1,0],],\n",
    "\n",
    " [[0,0,1],\n",
    "  [0,0,0],\n",
    "  [1,1,0],],]\n",
    ",dtype=int)\n",
    "\n",
    "T_target_canonicalized=axis_ops(\n",
    "    [\n",
    "        np.array([[1,1,1],[1,1,0],[1,0,1]]),\n",
    "        np.array([[1,1,1],[1,0,1],[0,1,1]]),\n",
    "        np.array([[1,1,1],[1,0,1],[0,1,1]]),\n",
    "    ],\n",
    "    T_target,\n",
    "    MOD=2\n",
    ")\n",
    "\n",
    "for sh in range(len(T_target_canonicalized.shape)):\n",
    "    display(rotate(T_target_canonicalized,sh))\n",
    "\n",
    "assert all(\n",
    "    k_th_rref_prune0(rotate(T_target_canonicalized,sh),R=4,MOD=2,k=2)!=NO_CPD_EXISTS\n",
    "    for sh in range(len(T_target_canonicalized.shape))\n",
    ")\n",
    "assert cpd_search(T_target_canonicalized,R=4,MOD=2) is None"
   ]
  },
  {
   "cell_type": "markdown",
   "id": "b67220b8",
   "metadata": {},
   "source": [
    "we notice that the axis-0 slices (i,:,:) seem to be antidiagonally shifted copies of the same matrix\n",
    "\n",
    "so we do some extra coordinate permutations to make this symmetry more clear\n",
    "(and convert to diagonal-shift symmetry, because that is a bit easier to notate)"
   ]
  },
  {
   "cell_type": "code",
   "execution_count": 57,
   "id": "2d030725",
   "metadata": {},
   "outputs": [
    {
     "data": {
      "text/plain": [
       "0"
      ]
     },
     "metadata": {},
     "output_type": "display_data"
    },
    {
     "data": {
      "text/plain": [
       "array([[[1, 1, 0],\n",
       "        [0, 1, 0],\n",
       "        [0, 0, 0]],\n",
       "\n",
       "       [[0, 0, 0],\n",
       "        [0, 1, 1],\n",
       "        [0, 0, 1]],\n",
       "\n",
       "       [[1, 0, 0],\n",
       "        [0, 0, 0],\n",
       "        [1, 0, 1]]])"
      ]
     },
     "metadata": {},
     "output_type": "display_data"
    },
    {
     "data": {
      "text/plain": [
       "1"
      ]
     },
     "metadata": {},
     "output_type": "display_data"
    },
    {
     "data": {
      "text/plain": [
       "array([[[1, 0, 1],\n",
       "        [1, 0, 0],\n",
       "        [0, 0, 0]],\n",
       "\n",
       "       [[0, 0, 0],\n",
       "        [1, 1, 0],\n",
       "        [0, 1, 0]],\n",
       "\n",
       "       [[0, 0, 1],\n",
       "        [0, 0, 0],\n",
       "        [0, 1, 1]]])"
      ]
     },
     "metadata": {},
     "output_type": "display_data"
    },
    {
     "data": {
      "text/plain": [
       "2"
      ]
     },
     "metadata": {},
     "output_type": "display_data"
    },
    {
     "data": {
      "text/plain": [
       "array([[[1, 0, 0],\n",
       "        [0, 0, 0],\n",
       "        [1, 0, 1]],\n",
       "\n",
       "       [[1, 1, 0],\n",
       "        [0, 1, 0],\n",
       "        [0, 0, 0]],\n",
       "\n",
       "       [[0, 0, 0],\n",
       "        [0, 1, 1],\n",
       "        [0, 0, 1]]])"
      ]
     },
     "metadata": {},
     "output_type": "display_data"
    },
    {
     "name": "stdout",
     "output_type": "stream",
     "text": [
      "t=2.0958749330602586\n",
      "{'work': [344, 1]}\n"
     ]
    }
   ],
   "source": [
    "A=np.array([\n",
    "    [1,1,0],\n",
    "    [0,1,0],\n",
    "    [0,0,0]\n",
    "],dtype=int)\n",
    "shift_mat=np.roll(np.eye(3,dtype=int),shift=1,axis=0)\n",
    "# A,shift_mat@A@shift_mat.T\n",
    "\n",
    "sh_A=A\n",
    "slices=[]\n",
    "for p in range(3):\n",
    "    slices.append(sh_A)\n",
    "    sh_A=shift_mat@sh_A@shift_mat.T\n",
    "\n",
    "T=np.array(slices)\n",
    "for sh in range(len(T.shape)):\n",
    "    display(sh,rotate(T,sh))\n",
    "\n",
    "assert all(\n",
    "    k_th_rref_prune0(rotate(T,sh),R=4,MOD=2,k=2)!=NO_CPD_EXISTS\n",
    "    for sh in range(len(T.shape))\n",
    ")\n",
    "assert cpd_search(T,R=4,MOD=2) is None"
   ]
  },
  {
   "cell_type": "markdown",
   "id": "611ed8a0",
   "metadata": {},
   "source": [
    "tensor also passes Laskowski pruning for R=4"
   ]
  },
  {
   "cell_type": "code",
   "execution_count": 59,
   "id": "646b3a2c",
   "metadata": {},
   "outputs": [
    {
     "data": {
      "text/plain": [
       "True"
      ]
     },
     "execution_count": 59,
     "metadata": {},
     "output_type": "execute_result"
    }
   ],
   "source": [
    "def prune_lask0(T,R,MOD,verbose=False):\n",
    "    assert len(T.shape)==3\n",
    "    n0=T.shape[0]\n",
    "    assert n0>0\n",
    "    tot_rank=sum(\n",
    "        mat_rank(axis_op(v.reshape((1,n0)),T,0,MOD)[0],MOD)\n",
    "        for v in all_vecs(n0,MOD)\n",
    "    )\n",
    "    if verbose:\n",
    "        ranks=np.zeros((MOD,)*n0,dtype=int)\n",
    "        for v in all_vecs(n0,MOD):\n",
    "            ranks[tuple(v)]=mat_rank(axis_op(v.reshape((1,n0)),T,0,MOD)[0],MOD)\n",
    "        print(ranks)\n",
    "    return (\n",
    "        CANNOT_DETERMINE_IF_CPD_EXISTS\n",
    "        if tot_rank <= R * (MOD**n0 - MOD**(n0-1))\n",
    "        else NO_CPD_EXISTS\n",
    "    )\n",
    "prune_lask=expand_pruner_rotate(prune_lask0)\n",
    "\n",
    "all(\n",
    "    prune_lask(rotate(T,sh),R=4,MOD=2)!=NO_CPD_EXISTS\n",
    "    for sh in range(len(T.shape))\n",
    ")"
   ]
  },
  {
   "cell_type": "code",
   "execution_count": null,
   "id": "bccc03fc",
   "metadata": {},
   "outputs": [],
   "source": []
  }
 ],
 "metadata": {
  "kernelspec": {
   "display_name": "Python 3 (ipykernel)",
   "language": "python",
   "name": "python3"
  },
  "language_info": {
   "codemirror_mode": {
    "name": "ipython",
    "version": 3
   },
   "file_extension": ".py",
   "mimetype": "text/x-python",
   "name": "python",
   "nbconvert_exporter": "python",
   "pygments_lexer": "ipython3",
   "version": "3.10.7"
  }
 },
 "nbformat": 4,
 "nbformat_minor": 5
}
