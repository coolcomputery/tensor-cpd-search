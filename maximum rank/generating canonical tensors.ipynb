{
 "cells": [
  {
   "cell_type": "code",
   "execution_count": null,
   "id": "8b2d3313",
   "metadata": {},
   "outputs": [],
   "source": [
    "import numpy as np, itertools as it, math\n",
    "from tqdm import tqdm\n",
    "from functools import cache"
   ]
  },
  {
   "cell_type": "markdown",
   "id": "5b668f3b",
   "metadata": {},
   "source": [
    "## utils"
   ]
  },
  {
   "cell_type": "code",
   "execution_count": null,
   "id": "1faaaa92",
   "metadata": {},
   "outputs": [],
   "source": [
    "from cpd_search import *  # using cpd/original/cpd_search.py"
   ]
  },
  {
   "cell_type": "code",
   "execution_count": null,
   "id": "ae10a3e8",
   "metadata": {},
   "outputs": [],
   "source": [
    "def all_tensors(shape,MOD):\n",
    "    return (\n",
    "        np.array(v,dtype=int).reshape(shape)\n",
    "        for v in it.product(range(MOD),repeat=np.prod(shape))\n",
    "    )"
   ]
  },
  {
   "cell_type": "code",
   "execution_count": null,
   "id": "3d8c9b31",
   "metadata": {},
   "outputs": [],
   "source": [
    "def all_invle_mats(n,MOD):\n",
    "    for v in it.product(range(MOD),repeat=n*n):\n",
    "        M=np.array(v,dtype=int).reshape((n,n))\n",
    "        if mat_rank(M,MOD)==n:\n",
    "            yield M"
   ]
  },
  {
   "cell_type": "code",
   "execution_count": null,
   "id": "85d4b0d6",
   "metadata": {},
   "outputs": [],
   "source": [
    "def tensor2code(T):\n",
    "    '''\n",
    "    convert tensor T into a hashable object\n",
    "    '''\n",
    "    assert isinstance(T,np.ndarray), type(T)\n",
    "    return (T.shape,tuple(T.flatten()))"
   ]
  },
  {
   "cell_type": "code",
   "execution_count": null,
   "id": "47bb8fd3",
   "metadata": {},
   "outputs": [],
   "source": [
    "def linsys(A,B,MOD,iterate=True):\n",
    "    '''\n",
    "    if iter:\n",
    "        return iterable of all solutions M to A@M=B mod MOD\n",
    "    else:\n",
    "        return X,Y such that the set {X+Y@Z : Z}\n",
    "        parameterizes all such solutions\n",
    "    '''\n",
    "    assert len(A.shape)==2, A.shape\n",
    "    assert len(B.shape)==2, B.shape\n",
    "    assert A.shape[0]==B.shape[0], (A.shape,B.shape)\n",
    "    rrefA,P,_,r=mat_row_reduce(A,MOD)\n",
    "    _,QT,_,_=mat_row_reduce(rrefA.T,MOD)\n",
    "    Q=QT.T\n",
    "    reduced_expected=np.zeros(A.shape,dtype=int)\n",
    "    reduced_expected[range(r),range(r)]=1\n",
    "    assert np.array_equal((P@A@Q)%MOD,reduced_expected), (P,A,Q,r,(P@A@Q)%MOD)\n",
    "    # (P@A@Q)@(inv(Q)@M)=P@B\n",
    "    PB=(P@B)%MOD\n",
    "    if not (PB[r:,:]==0).all():\n",
    "        # no solutions\n",
    "        if iterate:\n",
    "            return []\n",
    "        else:\n",
    "            return None\n",
    "    # M = Q@cat([PB[:r,:],arbitrary],axis=0)\n",
    "    #   = Q[:,:r]@PB[:r,:] + Q[:,r:]@arbitrary\n",
    "    M0,M1=(Q[:,:r]@PB[:r,:])%MOD, Q[:,r:]\n",
    "    if iterate:\n",
    "        return (\n",
    "            (M0+M1@X)%MOD\n",
    "            for X in all_tensors((M1.shape[1],M0.shape[1]),MOD)\n",
    "        )\n",
    "    else:\n",
    "        return M0,M1"
   ]
  },
  {
   "cell_type": "code",
   "execution_count": null,
   "id": "1929f6b1",
   "metadata": {},
   "outputs": [],
   "source": [
    "def test_linsys(A,B,MOD):\n",
    "    assert len(A.shape)==2, f'{A.shape=}'\n",
    "    assert len(B.shape)==2, f'{B.shape=}'\n",
    "    assert A.shape[0]==B.shape[0], f'{(A.shape,B.shape)=}'\n",
    "    expected_sols=sorted(\n",
    "        tensor2code(M)\n",
    "        for M in all_tensors((A.shape[1],B.shape[1]),MOD)\n",
    "        if np.array_equal((A@M)%MOD,B)\n",
    "    )\n",
    "    \n",
    "    actual_sols=sorted(\n",
    "        tensor2code(M)\n",
    "        for M in linsys(A,B,MOD,iterate=True)\n",
    "    )\n",
    "    assert expected_sols==actual_sols\n",
    "    \n",
    "#     if ret is None:\n",
    "#         assert len(expected_sols)==0, 'erroneously detected system as having no solutions'\n",
    "#     else:\n",
    "#         M0,M1=ret\n",
    "#         expected_M_shape=(A.shape[1],B.shape[1])\n",
    "#         assert M0.shape==expected_M_shape, f'{(expected_M_shape,M0.shape)=}'\n",
    "#         assert M1.shape[0]==A.shape[1], f'{(A.shape,M1.shape)=}'\n",
    "#         actual_sols=sorted(\n",
    "#             tensor2code((M0+M1@X)%MOD)\n",
    "#             for X in all_tensors((M1.shape[1],B.shape[1]),MOD)\n",
    "#         )"
   ]
  },
  {
   "cell_type": "code",
   "execution_count": null,
   "id": "ed2fbd18",
   "metadata": {},
   "outputs": [],
   "source": [
    "for A,B,MOD in [\n",
    "    # degenerate systems\n",
    "    (np.ones((0,0),dtype=int),np.zeros((0,0),dtype=int),2),\n",
    "    (np.ones((1,0),dtype=int),np.zeros((1,1),dtype=int),2),\n",
    "    \n",
    "    # no solution\n",
    "    (np.zeros((1,1),dtype=int),np.ones((1,1),dtype=int),2),\n",
    "    \n",
    "    # solution is an affine set not touching the origin\n",
    "    (np.array([[1,1],[1,0]],dtype=int),np.array([[1,1],[2,1]],dtype=int),3),\n",
    "    \n",
    "    # A full-row-rank but not full-clm-rank\n",
    "    (np.array([[1,1,0],[1,0,1]],dtype=int),np.array([[1,1],[2,1]],dtype=int),3),\n",
    "    \n",
    "    # A full-clm-rank but not full-row-rank\n",
    "    (np.array([[1,1,0],[1,0,1]],dtype=int).T,np.array([[0],[1],[2]],dtype=int),3),\n",
    "]:\n",
    "#     display(linsys(A,B,MOD))\n",
    "    test_linsys(A,B,MOD)"
   ]
  },
  {
   "cell_type": "markdown",
   "id": "940b79da",
   "metadata": {},
   "source": [
    "## generating tensors"
   ]
  },
  {
   "cell_type": "code",
   "execution_count": null,
   "id": "0193f962",
   "metadata": {},
   "outputs": [],
   "source": [
    "def dfs_canonicals_dim3(\n",
    "    n_slices,nrows,nclms,MOD,row_ops,\n",
    "    cur_slices,sol_list\n",
    "):\n",
    "    '''\n",
    "    row_ops: list of allowed row operations on slices\n",
    "    cur_slices: current list (prefix) of slices in tensor that will be built\n",
    "    sol_list (mutated): list to append to\n",
    "    '''\n",
    "    assert isinstance(row_ops,list)\n",
    "    assert len(cur_slices)<=n_slices\n",
    "    assert all(M.shape==(nrows,nclms) for M in cur_slices)\n",
    "    \n",
    "    if len(cur_slices)==n_slices:\n",
    "        sol_list.append(np.array(cur_slices,dtype=int))\n",
    "        return\n",
    "    \n",
    "    print('='*32+'\\n'+f'depth: {len(cur_slices)}')\n",
    "    good_pairs=[]\n",
    "    for P in tqdm(row_ops):\n",
    "        # find all inv'le nclms x nclms Q s.t. all(M==P@M@Q for M in cur_slices)\n",
    "        sys_left=np.concatenate([\n",
    "            (P@M)%MOD\n",
    "            for M in cur_slices\n",
    "        ],axis=0)\n",
    "        sys_right=np.concatenate(cur_slices,axis=0)\n",
    "        good_pairs.extend(\n",
    "            (P,Q)\n",
    "            for Q in linsys(sys_left,sys_right,MOD)\n",
    "            if mat_rank(Q,MOD)==nclms\n",
    "        )\n",
    "            \n",
    "    assert len(good_pairs)>0  # should at least contain the identity\n",
    "    print(f'# good pairs={len(good_pairs)}')\n",
    "    \n",
    "    seen=set()\n",
    "    canonicals=[]\n",
    "    for M in all_tensors((nrows,nclms),MOD):\n",
    "        code=tensor2code(M)\n",
    "        if code not in seen:\n",
    "            canonicals.append(M)\n",
    "            seen.update(\n",
    "                tensor2code((P@M@Q)%MOD)\n",
    "                for P,Q in good_pairs\n",
    "            )\n",
    "    print(f'# canonicals={len(canonicals)}')\n",
    "    \n",
    "    for M in canonicals:\n",
    "        dfs_canonicals_dim3(\n",
    "            n_slices,nrows,nclms,MOD,row_ops,\n",
    "            cur_slices+[M,],sol_list\n",
    "        )"
   ]
  },
  {
   "cell_type": "markdown",
   "id": "bfc0e829",
   "metadata": {},
   "source": [
    "### 3x4x3"
   ]
  },
  {
   "cell_type": "code",
   "execution_count": null,
   "id": "0f04543d",
   "metadata": {
    "scrolled": true
   },
   "outputs": [],
   "source": [
    "canonical_tensors=[]\n",
    "A=np.zeros((4,3),dtype=int)\n",
    "A[range(3),range(3)]=1\n",
    "init_slices=[\n",
    "    A,\n",
    "]\n",
    "display(init_slices)\n",
    "dfs_canonicals_dim3(\n",
    "    n_slices=3,nrows=4,nclms=3,MOD=2,\n",
    "    row_ops=list(all_invle_mats(4,2)),\n",
    "    cur_slices=init_slices,\n",
    "    sol_list=canonical_tensors\n",
    ")"
   ]
  },
  {
   "cell_type": "code",
   "execution_count": null,
   "id": "48ff9f2b",
   "metadata": {},
   "outputs": [],
   "source": [
    "len(canonical_tensors)"
   ]
  },
  {
   "cell_type": "code",
   "execution_count": null,
   "id": "322fd696",
   "metadata": {},
   "outputs": [],
   "source": [
    "with open('canonical-3x4x3-first-slice-rank-3.txt','w') as f:\n",
    "    for T in canonical_tensors:\n",
    "        assert T.shape==(3,4,3), (T.shape,T)\n",
    "        f.write(' '.join(str(v) for v in T.flatten())+'\\n')"
   ]
  },
  {
   "cell_type": "markdown",
   "id": "4d415f99",
   "metadata": {},
   "source": [
    "### 3x4x4"
   ]
  },
  {
   "cell_type": "code",
   "execution_count": null,
   "id": "dc321bf7",
   "metadata": {
    "scrolled": true
   },
   "outputs": [],
   "source": [
    "canonical_tensors=[]\n",
    "for r_init in [3,4]:\n",
    "    A=np.zeros((4,4),dtype=int)\n",
    "    A[range(r_init),range(r_init)]=1\n",
    "    init_slices=[\n",
    "        A,\n",
    "    ]\n",
    "    print('='*64)\n",
    "    display(init_slices)\n",
    "    dfs_canonicals_dim3(\n",
    "        n_slices=3,nrows=4,nclms=4,MOD=2,\n",
    "        row_ops=list(all_invle_mats(4,2)),\n",
    "        cur_slices=init_slices,\n",
    "        sol_list=canonical_tensors\n",
    "    )"
   ]
  },
  {
   "cell_type": "code",
   "execution_count": null,
   "id": "5e3a67ba",
   "metadata": {},
   "outputs": [],
   "source": [
    "len(canonical_tensors)"
   ]
  },
  {
   "cell_type": "code",
   "execution_count": null,
   "id": "5049fd29",
   "metadata": {},
   "outputs": [],
   "source": [
    "with open('canonical-3x4x4-first-slice-rank-ge3.txt','w') as f:\n",
    "    for T in canonical_tensors:\n",
    "        assert T.shape==(3,4,4), (T.shape,T)\n",
    "        f.write(' '.join(str(v) for v in T.flatten())+'\\n')"
   ]
  },
  {
   "cell_type": "markdown",
   "id": "a6d8f5e6",
   "metadata": {},
   "source": [
    "### 3x3x5"
   ]
  },
  {
   "cell_type": "code",
   "execution_count": null,
   "id": "ff985f89",
   "metadata": {},
   "outputs": [],
   "source": [
    "canonical_tensors=[]\n",
    "A=np.zeros((3,5),dtype=int)\n",
    "A[range(3),range(3)]=1\n",
    "init_slices=[\n",
    "    A,\n",
    "]\n",
    "display(init_slices)\n",
    "dfs_canonicals_dim3(\n",
    "    n_slices=3,nrows=3,nclms=5,MOD=2,\n",
    "    row_ops=list(all_invle_mats(3,2)),\n",
    "    cur_slices=init_slices,\n",
    "    sol_list=canonical_tensors\n",
    ")"
   ]
  },
  {
   "cell_type": "code",
   "execution_count": null,
   "id": "f9c952de",
   "metadata": {},
   "outputs": [],
   "source": [
    "len(canonical_tensors)"
   ]
  },
  {
   "cell_type": "code",
   "execution_count": null,
   "id": "4f7bd72b",
   "metadata": {},
   "outputs": [],
   "source": [
    "with open('canonical-3x3x5-first-slice-rank-3.txt','w') as f:\n",
    "    for T in canonical_tensors:\n",
    "        assert T.shape==(3,3,5), (T.shape,T)\n",
    "        f.write(' '.join(str(v) for v in T.flatten())+'\\n')"
   ]
  },
  {
   "cell_type": "markdown",
   "id": "bf9a9636",
   "metadata": {},
   "source": [
    "## $\\newcommand{\\F}{\\mathbb{F}}$maximum rank results over $\\F_2$ (Java)\n",
    "* $R_{\\F_2}(3,4,3)=6$ <span style=\"color:gray\">$=R_{\\F_2}(3,3,4)$</span>\n",
    "* $R_{\\F_2}(3,4,4)=8$\n",
    "* $R_{\\F_2}(3,3,5)=7$"
   ]
  },
  {
   "cell_type": "code",
   "execution_count": null,
   "id": "561d7ed0",
   "metadata": {},
   "outputs": [],
   "source": []
  }
 ],
 "metadata": {
  "kernelspec": {
   "display_name": "Python 3 (ipykernel)",
   "language": "python",
   "name": "python3"
  },
  "language_info": {
   "codemirror_mode": {
    "name": "ipython",
    "version": 3
   },
   "file_extension": ".py",
   "mimetype": "text/x-python",
   "name": "python",
   "nbconvert_exporter": "python",
   "pygments_lexer": "ipython3",
   "version": "3.10.7"
  }
 },
 "nbformat": 4,
 "nbformat_minor": 5
}
